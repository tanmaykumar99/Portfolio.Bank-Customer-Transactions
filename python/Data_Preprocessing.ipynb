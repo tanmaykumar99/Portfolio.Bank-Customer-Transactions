{
 "cells": [
  {
   "cell_type": "markdown",
   "id": "e4f5e9a7-ae45-4f16-ac19-448c5c71abcb",
   "metadata": {},
   "source": [
    "## An EDA of Bank Customer Transactions by their age and location demographic in the year 2016\n",
    "Time frame: 1st August, 2016 -> 21st October, 2016"
   ]
  },
  {
   "cell_type": "code",
   "execution_count": 3,
   "id": "bc997596-ab22-4c3f-b92a-5932ea4e8228",
   "metadata": {},
   "outputs": [
    {
     "name": "stdout",
     "output_type": "stream",
     "text": [
      "Importing from MySQL database\n",
      "Data import done\n",
      "\n",
      "\n",
      "Database connection closed.\n"
     ]
    }
   ],
   "source": [
    "import pandas as pd\n",
    "from sqlalchemy import create_engine\n",
    "\n",
    "db_username = 'root'\n",
    "db_password = '*********'\n",
    "db_host = 'localhost'\n",
    "db_name = 'Banking'\n",
    "\n",
    "connection_string = f\"mysql+mysqlconnector://{db_username}:{db_password}@{db_host}/{db_name}\"\n",
    "engine = create_engine(connection_string)\n",
    "\n",
    "query = \"SELECT * FROM bank_customer_transactions_dedup;\"\n",
    "\n",
    "try:\n",
    "    print(\"Importing from MySQL database\")\n",
    "    df = pd.read_sql(query, engine)\n",
    "    print(\"Data import done\\n\")\n",
    "finally:\n",
    "    engine.dispose()\n",
    "    print(\"\\nDatabase connection closed.\")"
   ]
  },
  {
   "cell_type": "code",
   "execution_count": 14,
   "id": "3ab1dd15-67c9-4037-8568-0507d955fbbd",
   "metadata": {},
   "outputs": [
    {
     "data": {
      "text/html": [
       "<div>\n",
       "<style scoped>\n",
       "    .dataframe tbody tr th:only-of-type {\n",
       "        vertical-align: middle;\n",
       "    }\n",
       "\n",
       "    .dataframe tbody tr th {\n",
       "        vertical-align: top;\n",
       "    }\n",
       "\n",
       "    .dataframe thead th {\n",
       "        text-align: right;\n",
       "    }\n",
       "</style>\n",
       "<table border=\"1\" class=\"dataframe\">\n",
       "  <thead>\n",
       "    <tr style=\"text-align: right;\">\n",
       "      <th></th>\n",
       "      <th>TransactionID</th>\n",
       "      <th>CustomerID</th>\n",
       "      <th>CustomerDOB</th>\n",
       "      <th>CustGender</th>\n",
       "      <th>CustLocation</th>\n",
       "      <th>CustAccountBalance</th>\n",
       "      <th>TransactionDate</th>\n",
       "      <th>TransactionTime</th>\n",
       "      <th>TransactionAmount (INR)</th>\n",
       "    </tr>\n",
       "  </thead>\n",
       "  <tbody>\n",
       "    <tr>\n",
       "      <th>0</th>\n",
       "      <td>T1</td>\n",
       "      <td>C5841053</td>\n",
       "      <td>10/1/94</td>\n",
       "      <td>F</td>\n",
       "      <td>JAMSHEDPUR</td>\n",
       "      <td>17819.05</td>\n",
       "      <td>2/8/16</td>\n",
       "      <td>143207</td>\n",
       "      <td>25.0</td>\n",
       "    </tr>\n",
       "    <tr>\n",
       "      <th>1</th>\n",
       "      <td>T2</td>\n",
       "      <td>C2142763</td>\n",
       "      <td>4/4/57</td>\n",
       "      <td>M</td>\n",
       "      <td>JHAJJAR</td>\n",
       "      <td>2270.69</td>\n",
       "      <td>2/8/16</td>\n",
       "      <td>141858</td>\n",
       "      <td>27999.0</td>\n",
       "    </tr>\n",
       "    <tr>\n",
       "      <th>2</th>\n",
       "      <td>T3</td>\n",
       "      <td>C4417068</td>\n",
       "      <td>26/11/96</td>\n",
       "      <td>F</td>\n",
       "      <td>MUMBAI</td>\n",
       "      <td>17874.44</td>\n",
       "      <td>2/8/16</td>\n",
       "      <td>142712</td>\n",
       "      <td>459.0</td>\n",
       "    </tr>\n",
       "    <tr>\n",
       "      <th>3</th>\n",
       "      <td>T4</td>\n",
       "      <td>C5342380</td>\n",
       "      <td>14/9/73</td>\n",
       "      <td>F</td>\n",
       "      <td>MUMBAI</td>\n",
       "      <td>866503.21</td>\n",
       "      <td>2/8/16</td>\n",
       "      <td>142714</td>\n",
       "      <td>2060.0</td>\n",
       "    </tr>\n",
       "    <tr>\n",
       "      <th>4</th>\n",
       "      <td>T5</td>\n",
       "      <td>C9031234</td>\n",
       "      <td>24/3/88</td>\n",
       "      <td>F</td>\n",
       "      <td>NAVI MUMBAI</td>\n",
       "      <td>6714.43</td>\n",
       "      <td>2/8/16</td>\n",
       "      <td>181156</td>\n",
       "      <td>1762.5</td>\n",
       "    </tr>\n",
       "    <tr>\n",
       "      <th>...</th>\n",
       "      <td>...</td>\n",
       "      <td>...</td>\n",
       "      <td>...</td>\n",
       "      <td>...</td>\n",
       "      <td>...</td>\n",
       "      <td>...</td>\n",
       "      <td>...</td>\n",
       "      <td>...</td>\n",
       "      <td>...</td>\n",
       "    </tr>\n",
       "    <tr>\n",
       "      <th>1048562</th>\n",
       "      <td>T1048563</td>\n",
       "      <td>C8020229</td>\n",
       "      <td>8/4/90</td>\n",
       "      <td>M</td>\n",
       "      <td>NEW DELHI</td>\n",
       "      <td>7635.19</td>\n",
       "      <td>18/9/16</td>\n",
       "      <td>184824</td>\n",
       "      <td>799.0</td>\n",
       "    </tr>\n",
       "    <tr>\n",
       "      <th>1048563</th>\n",
       "      <td>T1048564</td>\n",
       "      <td>C6459278</td>\n",
       "      <td>20/2/92</td>\n",
       "      <td>M</td>\n",
       "      <td>NASHIK</td>\n",
       "      <td>27311.42</td>\n",
       "      <td>18/9/16</td>\n",
       "      <td>183734</td>\n",
       "      <td>460.0</td>\n",
       "    </tr>\n",
       "    <tr>\n",
       "      <th>1048564</th>\n",
       "      <td>T1048565</td>\n",
       "      <td>C6412354</td>\n",
       "      <td>18/5/89</td>\n",
       "      <td>M</td>\n",
       "      <td>HYDERABAD</td>\n",
       "      <td>221757.06</td>\n",
       "      <td>18/9/16</td>\n",
       "      <td>183313</td>\n",
       "      <td>770.0</td>\n",
       "    </tr>\n",
       "    <tr>\n",
       "      <th>1048565</th>\n",
       "      <td>T1048566</td>\n",
       "      <td>C6420483</td>\n",
       "      <td>30/8/78</td>\n",
       "      <td>M</td>\n",
       "      <td>VISAKHAPATNAM</td>\n",
       "      <td>10117.87</td>\n",
       "      <td>18/9/16</td>\n",
       "      <td>184706</td>\n",
       "      <td>1000.0</td>\n",
       "    </tr>\n",
       "    <tr>\n",
       "      <th>1048566</th>\n",
       "      <td>T1048567</td>\n",
       "      <td>C8337524</td>\n",
       "      <td>5/3/84</td>\n",
       "      <td>M</td>\n",
       "      <td>PUNE</td>\n",
       "      <td>75734.42</td>\n",
       "      <td>18/9/16</td>\n",
       "      <td>181222</td>\n",
       "      <td>1166.0</td>\n",
       "    </tr>\n",
       "  </tbody>\n",
       "</table>\n",
       "<p>1048567 rows × 9 columns</p>\n",
       "</div>"
      ],
      "text/plain": [
       "        TransactionID CustomerID CustomerDOB CustGender   CustLocation  \\\n",
       "0                  T1   C5841053     10/1/94          F     JAMSHEDPUR   \n",
       "1                  T2   C2142763      4/4/57          M        JHAJJAR   \n",
       "2                  T3   C4417068    26/11/96          F         MUMBAI   \n",
       "3                  T4   C5342380     14/9/73          F         MUMBAI   \n",
       "4                  T5   C9031234     24/3/88          F    NAVI MUMBAI   \n",
       "...               ...        ...         ...        ...            ...   \n",
       "1048562      T1048563   C8020229      8/4/90          M      NEW DELHI   \n",
       "1048563      T1048564   C6459278     20/2/92          M         NASHIK   \n",
       "1048564      T1048565   C6412354     18/5/89          M      HYDERABAD   \n",
       "1048565      T1048566   C6420483     30/8/78          M  VISAKHAPATNAM   \n",
       "1048566      T1048567   C8337524      5/3/84          M           PUNE   \n",
       "\n",
       "         CustAccountBalance TransactionDate  TransactionTime  \\\n",
       "0                  17819.05          2/8/16           143207   \n",
       "1                   2270.69          2/8/16           141858   \n",
       "2                  17874.44          2/8/16           142712   \n",
       "3                 866503.21          2/8/16           142714   \n",
       "4                   6714.43          2/8/16           181156   \n",
       "...                     ...             ...              ...   \n",
       "1048562             7635.19         18/9/16           184824   \n",
       "1048563            27311.42         18/9/16           183734   \n",
       "1048564           221757.06         18/9/16           183313   \n",
       "1048565            10117.87         18/9/16           184706   \n",
       "1048566            75734.42         18/9/16           181222   \n",
       "\n",
       "         TransactionAmount (INR)  \n",
       "0                           25.0  \n",
       "1                        27999.0  \n",
       "2                          459.0  \n",
       "3                         2060.0  \n",
       "4                         1762.5  \n",
       "...                          ...  \n",
       "1048562                    799.0  \n",
       "1048563                    460.0  \n",
       "1048564                    770.0  \n",
       "1048565                   1000.0  \n",
       "1048566                   1166.0  \n",
       "\n",
       "[1048567 rows x 9 columns]"
      ]
     },
     "execution_count": 14,
     "metadata": {},
     "output_type": "execute_result"
    }
   ],
   "source": [
    "df"
   ]
  },
  {
   "cell_type": "code",
   "execution_count": 5,
   "id": "01829e0d-bfaf-47c9-9386-2b53ead14d2f",
   "metadata": {},
   "outputs": [
    {
     "name": "stdout",
     "output_type": "stream",
     "text": [
      "<class 'pandas.core.frame.DataFrame'>\n",
      "RangeIndex: 1048567 entries, 0 to 1048566\n",
      "Data columns (total 9 columns):\n",
      " #   Column                   Non-Null Count    Dtype  \n",
      "---  ------                   --------------    -----  \n",
      " 0   TransactionID            1048567 non-null  object \n",
      " 1   CustomerID               1048567 non-null  object \n",
      " 2   CustomerDOB              1045170 non-null  object \n",
      " 3   CustGender               1047467 non-null  object \n",
      " 4   CustLocation             1048416 non-null  object \n",
      " 5   CustAccountBalance       1046198 non-null  float64\n",
      " 6   TransactionDate          1048567 non-null  object \n",
      " 7   TransactionTime          1048567 non-null  int64  \n",
      " 8   TransactionAmount (INR)  1048567 non-null  float64\n",
      "dtypes: float64(2), int64(1), object(6)\n",
      "memory usage: 72.0+ MB\n"
     ]
    }
   ],
   "source": [
    "df.info()"
   ]
  },
  {
   "cell_type": "code",
   "execution_count": 6,
   "id": "d9c5726e-dd40-4566-91c1-f6976c479f09",
   "metadata": {},
   "outputs": [],
   "source": [
    "## Prelim cleaning (Converting Time column to HH:MM:SS format)\n",
    "\n",
    "df['TransactionTime'] = df['TransactionTime'].apply(lambda x: f\"{int(x):06d}\")\n",
    "df['TransactionTime'] = pd.to_datetime(df['TransactionTime'], format=\"%H%M%S\").dt.time"
   ]
  },
  {
   "cell_type": "code",
   "execution_count": 104,
   "id": "87c8ab61-07fa-44b3-adb9-d75308adc7ea",
   "metadata": {},
   "outputs": [],
   "source": [
    "## Converting date columns from string to date format (dd/mm/yy)\n",
    "\n",
    "## merged_df['CustomerDOB'] = pd.to_datetime(merged_df['CustomerDOB'], format=\"%d/%m/%y\")\n",
    "## merged_df['TransactionDate'] = pd.to_datetime(merged_df['TransactionDate'], format=\"%d/%m/%y\")\n",
    "\n",
    "## Getting error here, so I will check further"
   ]
  },
  {
   "cell_type": "code",
   "execution_count": 7,
   "id": "d2acf205-b2ea-433c-bafc-85ca2a70e25e",
   "metadata": {},
   "outputs": [
    {
     "name": "stdout",
     "output_type": "stream",
     "text": [
      "Invalid DOB entries: 60736\n",
      "['1/1/1800' nan]\n",
      "Invalid TransactionDate entries: 0\n",
      "[]\n"
     ]
    }
   ],
   "source": [
    "invalid_dobs = df[~df['CustomerDOB'].astype(str).str.match(r'^\\d{1,2}/\\d{1,2}/\\d{2}$', na=False)]\n",
    "print(\"Invalid DOB entries:\", len(invalid_dobs))\n",
    "print(invalid_dobs['CustomerDOB'].unique())\n",
    "invalid_tx_dates = df[~df['TransactionDate'].astype(str).str.match(r'^\\d{1,2}/\\d{1,2}/\\d{2}$', na=False)]\n",
    "print(\"Invalid TransactionDate entries:\", len(invalid_tx_dates))\n",
    "print(invalid_tx_dates['TransactionDate'].unique())"
   ]
  },
  {
   "cell_type": "code",
   "execution_count": 8,
   "id": "e1671f3f-adad-46b6-9f02-4ff53743267f",
   "metadata": {},
   "outputs": [],
   "source": [
    "## Since pandas auto formats years before '66 as 2066, this will lead to age errors\n",
    "# Will need to manually preprocess to avoid this error here\n",
    "\n",
    "def fix_year(date_str):\n",
    "    if pd.isna(date_str):\n",
    "        return pd.NaT\n",
    "    try:\n",
    "        parts = date_str.split('/')\n",
    "        if len(parts) == 3:\n",
    "            day, month, year = parts\n",
    "            year = int(year)\n",
    "            if year < 10:    ## Assuming no one born before 1910 will be making transactions in 2016\n",
    "                year += 2000\n",
    "            else:\n",
    "                year += 1900\n",
    "            return f\"{day}/{month}/{year}\"\n",
    "        else:\n",
    "            return pd.NaT\n",
    "    except:\n",
    "        return pd.NaT\n",
    "\n",
    "## Applying this fix before parsing\n",
    "df['CustomerDOB'] = df['CustomerDOB'].replace('1/1/1800', pd.NaT)\n",
    "df['CustomerDOB'] = df['CustomerDOB'].apply(fix_year)\n",
    "df['CustomerDOB'] = pd.to_datetime(df['CustomerDOB'], format=\"%d/%m/%Y\", errors='coerce')\n",
    "df['TransactionDate'] = pd.to_datetime(df['TransactionDate'], format=\"%d/%m/%y\")"
   ]
  },
  {
   "cell_type": "code",
   "execution_count": 9,
   "id": "71d8e908-9322-4407-a53e-54dc2a412e61",
   "metadata": {},
   "outputs": [],
   "source": [
    "## Age column for future analyses\n",
    "transaction_date = pd.to_datetime('2016-10-18') ## Assuming the year of the transaction date as the current year\n",
    "df['Age'] = (transaction_date - df['CustomerDOB']).dt.days // 365"
   ]
  },
  {
   "cell_type": "code",
   "execution_count": 10,
   "id": "04cc4483-24a1-4cab-9906-436c8a51570c",
   "metadata": {},
   "outputs": [
    {
     "name": "stdout",
     "output_type": "stream",
     "text": [
      "count    987831.000000\n",
      "mean         30.876751\n",
      "std           8.805353\n",
      "min           7.000000\n",
      "25%          25.000000\n",
      "50%          29.000000\n",
      "75%          34.000000\n",
      "max         106.000000\n",
      "Name: Age, dtype: float64\n"
     ]
    }
   ],
   "source": [
    "print(df['Age'].describe()) ##Checking for unnatural values in Age column"
   ]
  },
  {
   "cell_type": "code",
   "execution_count": 11,
   "id": "f2c1fd2f-5478-43af-9c02-9e4725dd5e7e",
   "metadata": {},
   "outputs": [
    {
     "name": "stdout",
     "output_type": "stream",
     "text": [
      "<class 'pandas.core.frame.DataFrame'>\n",
      "RangeIndex: 1048567 entries, 0 to 1048566\n",
      "Data columns (total 10 columns):\n",
      " #   Column                   Non-Null Count    Dtype         \n",
      "---  ------                   --------------    -----         \n",
      " 0   TransactionID            1048567 non-null  object        \n",
      " 1   CustomerID               1048567 non-null  object        \n",
      " 2   CustomerDOB              987831 non-null   datetime64[ns]\n",
      " 3   CustGender               1047467 non-null  object        \n",
      " 4   CustLocation             1048416 non-null  object        \n",
      " 5   CustAccountBalance       1046198 non-null  float64       \n",
      " 6   TransactionDate          1048567 non-null  datetime64[ns]\n",
      " 7   TransactionTime          1048567 non-null  object        \n",
      " 8   TransactionAmount (INR)  1048567 non-null  float64       \n",
      " 9   Age                      987831 non-null   float64       \n",
      "dtypes: datetime64[ns](2), float64(3), object(5)\n",
      "memory usage: 80.0+ MB\n"
     ]
    }
   ],
   "source": [
    "df.info()"
   ]
  },
  {
   "cell_type": "code",
   "execution_count": 12,
   "id": "14a06a22-ac75-4cf6-a79a-ccc9e412b90d",
   "metadata": {},
   "outputs": [
    {
     "name": "stdout",
     "output_type": "stream",
     "text": [
      "Missing values:\n",
      " TransactionID                  0\n",
      "CustomerID                     0\n",
      "CustomerDOB                60736\n",
      "CustGender                  1100\n",
      "CustLocation                 151\n",
      "CustAccountBalance          2369\n",
      "TransactionDate                0\n",
      "TransactionTime                0\n",
      "TransactionAmount (INR)        0\n",
      "Age                        60736\n",
      "dtype: int64\n",
      "Duplicate rows: 0\n"
     ]
    }
   ],
   "source": [
    "print(\"Missing values:\\n\", df.isnull().sum())\n",
    "print(\"Duplicate rows:\", df.duplicated().sum())"
   ]
  },
  {
   "cell_type": "code",
   "execution_count": 13,
   "id": "d2ba8d11-556d-4461-82ea-929464106141",
   "metadata": {},
   "outputs": [
    {
     "data": {
      "text/plain": [
       "CustGender\n",
       "M    765530\n",
       "F    281936\n",
       "T         1\n",
       "Name: count, dtype: int64"
      ]
     },
     "execution_count": 13,
     "metadata": {},
     "output_type": "execute_result"
    }
   ],
   "source": [
    "df['CustGender'].value_counts()"
   ]
  },
  {
   "cell_type": "code",
   "execution_count": 14,
   "id": "7b186557-a526-49ce-bd85-02e018eb4fc7",
   "metadata": {
    "scrolled": true
   },
   "outputs": [],
   "source": [
    "df['CustGender'] = df['CustGender'].fillna('Unknown')\n",
    "df['CustLocation'] = df['CustLocation'].fillna('Unknown')"
   ]
  },
  {
   "cell_type": "code",
   "execution_count": 15,
   "id": "aa106787-75e1-442b-b72a-db98f4b7e5d3",
   "metadata": {},
   "outputs": [
    {
     "data": {
      "text/plain": [
       "count    1.046198e+06\n",
       "mean     1.154035e+05\n",
       "std      8.464854e+05\n",
       "min      0.000000e+00\n",
       "25%      4.721760e+03\n",
       "50%      1.679218e+04\n",
       "75%      5.765736e+04\n",
       "max      1.150355e+08\n",
       "Name: CustAccountBalance, dtype: float64"
      ]
     },
     "execution_count": 15,
     "metadata": {},
     "output_type": "execute_result"
    }
   ],
   "source": [
    "## Missing values for Account Balance will be replaced with median or mean (Depending on how skewed the data is)\n",
    "df['CustAccountBalance'].describe()"
   ]
  },
  {
   "cell_type": "code",
   "execution_count": 16,
   "id": "7397ad49-90f6-4390-8afc-5b785ffb534c",
   "metadata": {},
   "outputs": [
    {
     "name": "stdout",
     "output_type": "stream",
     "text": [
      "Mean: 115,403.54\n",
      "Median: 16,792.18\n",
      "Skewed Right\n",
      "There are a few very large account balances; Outliers inflating average\n"
     ]
    }
   ],
   "source": [
    "mean = df['CustAccountBalance'].mean()\n",
    "median = df['CustAccountBalance'].median()\n",
    "\n",
    "print(f\"Mean: {mean:,.2f}\")\n",
    "print(f\"Median: {median:,.2f}\")\n",
    "print(\"Skewed Right\\nThere are a few very large account balances; Outliers inflating average\"\n",
    "      if mean > median else \"Skewed Left\" if mean < median else \"Symmetric\")"
   ]
  },
  {
   "cell_type": "code",
   "execution_count": 17,
   "id": "ea9a6afc-ab0f-42f6-b5fa-dc8a26fa487a",
   "metadata": {},
   "outputs": [
    {
     "name": "stdout",
     "output_type": "stream",
     "text": [
      "Account Balance Skewness: 60.53033399781306\n",
      "Transaction Amount Skewness: 47.337251797156924\n",
      "\n",
      "The data is highly skewed and using median for computing averages is much safer for this dataset.\n"
     ]
    }
   ],
   "source": [
    "# Checking skewness for account balances and transaction amounts\n",
    "balance_skew = df['CustAccountBalance'].skew()\n",
    "\n",
    "transaction_skew = df['TransactionAmount (INR)'].skew()\n",
    "\n",
    "print(\"Account Balance Skewness:\", balance_skew)\n",
    "print(\"Transaction Amount Skewness:\", transaction_skew)\n",
    "\n",
    "if balance_skew>5 and transaction_skew>5:\n",
    "    print(\"\\nThe data is highly skewed and using median for computing averages is much safer for this dataset.\")"
   ]
  },
  {
   "cell_type": "code",
   "execution_count": 18,
   "id": "9721ed46-6f86-4309-910d-05606037dd6e",
   "metadata": {},
   "outputs": [],
   "source": [
    "median_balance = df['CustAccountBalance'].median()\n",
    "df['CustAccountBalance'] = df['CustAccountBalance'].fillna(median_balance)"
   ]
  },
  {
   "cell_type": "code",
   "execution_count": 19,
   "id": "e0e538d7-05a2-40ea-bdfc-c1ec0781a8ff",
   "metadata": {},
   "outputs": [
    {
     "name": "stdout",
     "output_type": "stream",
     "text": [
      "Remaing missing values:\n",
      " TransactionID                  0\n",
      "CustomerID                     0\n",
      "CustomerDOB                60736\n",
      "CustGender                     0\n",
      "CustLocation                   0\n",
      "CustAccountBalance             0\n",
      "TransactionDate                0\n",
      "TransactionTime                0\n",
      "TransactionAmount (INR)        0\n",
      "Age                        60736\n",
      "dtype: int64\n"
     ]
    }
   ],
   "source": [
    "print(\"Remaing missing values:\\n\",df.isnull().sum())"
   ]
  },
  {
   "cell_type": "code",
   "execution_count": 20,
   "id": "f094092c-6b01-4bec-bce5-133e5fe6fe37",
   "metadata": {},
   "outputs": [
    {
     "name": "stdout",
     "output_type": "stream",
     "text": [
      "Remaing missing values:\n",
      " TransactionID              0\n",
      "CustomerID                 0\n",
      "CustomerDOB                0\n",
      "CustGender                 0\n",
      "CustLocation               0\n",
      "CustAccountBalance         0\n",
      "TransactionDate            0\n",
      "TransactionTime            0\n",
      "TransactionAmount (INR)    0\n",
      "Age                        0\n",
      "dtype: int64\n"
     ]
    }
   ],
   "source": [
    "## Since 60736 rows only constitutes 1% of the entire dataset, we can safely drop\n",
    "# all such rows without worrying about health of the data\n",
    "df = df.dropna(subset=['CustomerDOB'])\n",
    "print(\"Remaing missing values:\\n\",df.isnull().sum())"
   ]
  },
  {
   "cell_type": "code",
   "execution_count": 21,
   "id": "8fb4601d-175a-4c39-b9cd-b8a5bbab0eab",
   "metadata": {},
   "outputs": [
    {
     "name": "stdout",
     "output_type": "stream",
     "text": [
      "<class 'pandas.core.frame.DataFrame'>\n",
      "Index: 987831 entries, 0 to 1048566\n",
      "Data columns (total 10 columns):\n",
      " #   Column                   Non-Null Count   Dtype         \n",
      "---  ------                   --------------   -----         \n",
      " 0   TransactionID            987831 non-null  object        \n",
      " 1   CustomerID               987831 non-null  object        \n",
      " 2   CustomerDOB              987831 non-null  datetime64[ns]\n",
      " 3   CustGender               987831 non-null  object        \n",
      " 4   CustLocation             987831 non-null  object        \n",
      " 5   CustAccountBalance       987831 non-null  float64       \n",
      " 6   TransactionDate          987831 non-null  datetime64[ns]\n",
      " 7   TransactionTime          987831 non-null  object        \n",
      " 8   TransactionAmount (INR)  987831 non-null  float64       \n",
      " 9   Age                      987831 non-null  int64         \n",
      "dtypes: datetime64[ns](2), float64(2), int64(1), object(5)\n",
      "memory usage: 82.9+ MB\n"
     ]
    },
    {
     "name": "stderr",
     "output_type": "stream",
     "text": [
      "/var/folders/8g/00b3gbs92n16plbgtl71gh8h0000gn/T/ipykernel_56784/2019209778.py:1: SettingWithCopyWarning: \n",
      "A value is trying to be set on a copy of a slice from a DataFrame.\n",
      "Try using .loc[row_indexer,col_indexer] = value instead\n",
      "\n",
      "See the caveats in the documentation: https://pandas.pydata.org/pandas-docs/stable/user_guide/indexing.html#returning-a-view-versus-a-copy\n",
      "  df['Age'] = df['Age'].astype(int)\n"
     ]
    }
   ],
   "source": [
    "df['Age'] = df['Age'].astype(int)\n",
    "df.info()"
   ]
  },
  {
   "cell_type": "code",
   "execution_count": 22,
   "id": "d2985435-7e44-43f9-a8ea-94da6e22dcdd",
   "metadata": {},
   "outputs": [
    {
     "name": "stdout",
     "output_type": "stream",
     "text": [
      "       TransactionAmount (INR)  CustAccountBalance  \\\n",
      "count             9.878310e+05        9.878310e+05   \n",
      "mean              1.453714e+03        1.058525e+05   \n",
      "min               0.000000e+00        0.000000e+00   \n",
      "25%               1.510000e+02        4.601910e+03   \n",
      "50%               4.312100e+02        1.607897e+04   \n",
      "75%               1.126000e+03        5.357282e+04   \n",
      "max               1.560035e+06        1.150355e+08   \n",
      "std               6.145956e+03        8.168791e+05   \n",
      "\n",
      "                     TransactionDate  \n",
      "count                         987831  \n",
      "mean   2016-08-25 04:00:58.732313344  \n",
      "min              2016-08-01 00:00:00  \n",
      "25%              2016-08-12 00:00:00  \n",
      "50%              2016-08-25 00:00:00  \n",
      "75%              2016-09-06 00:00:00  \n",
      "max              2016-10-21 00:00:00  \n",
      "std                              NaN  \n"
     ]
    }
   ],
   "source": [
    "# Quick Summary\n",
    "print(df[['TransactionAmount (INR)', 'CustAccountBalance', 'TransactionDate']].describe())"
   ]
  },
  {
   "cell_type": "markdown",
   "id": "2b06276b-52b6-4fea-8724-cfe213046cac",
   "metadata": {},
   "source": [
    "## LOCATION FILTER LOGIC\n",
    "    Foreign customers will be dropped and exported out to another dataframe (For a future use case revolving foreign clients), as this will skew the data considerably more due to higher PPP in foreign countries."
   ]
  },
  {
   "cell_type": "code",
   "execution_count": 23,
   "id": "72c38b38-ae79-42a7-881e-9cfd716fd85f",
   "metadata": {},
   "outputs": [],
   "source": [
    "tempdf = df.copy()"
   ]
  },
  {
   "cell_type": "code",
   "execution_count": 24,
   "id": "16ed0064-62e7-46f8-8664-5b50e2617fcb",
   "metadata": {},
   "outputs": [],
   "source": [
    "foreign = ['ABU DHABI', 'ACCRA', 'Addis Ababa', 'AGNES WATER', 'AJMAN', 'AL AIN', 'AL JUBAIL', 'AL NAHDA', 'AL NAKHEEL',\n",
    "           'AL QUOZ IND', 'AL SALMIYA', 'AL WAKRA', 'ALAIN', 'ALBION', 'Amsterdam', 'AREZZO', 'ARUSHA', 'ASHFIELD', 'AUCKLAND',\n",
    "           'AUSTIN', 'BAHRAIN', 'BAIRNSDALE', 'BANGKOK', 'BASINGSTOKE', 'BEDFORD', 'BEAVERTON', 'BERGEN', 'BIETIGHEIM',\n",
    "           'BIETIGHEIM BISSINGEN', 'BIRMINGHAM', 'BORAS', 'BOX DUBAI DUBAI', 'BOX RIYADH', 'BRUSSEL', 'BRUXELLES', 'BUDAPEST', \n",
    "           'BURAIDAH', 'BUR DUBAI', 'BURWOOD EAST', 'CAMPBELL', 'CAMP HILL', 'CARINDALE', 'CASTLE HILL', 'CENTER DUBAI', 'CHARLOTTE',\n",
    "           'CHESTER', 'CHICAGO', 'CHISOPANI', 'CLARKSBURG M MD', 'CLERMONT FERRAND', 'CLEAR WATER', 'COCKEYSVILLE', 'COPENHAGEN',\n",
    "           'CORPUS CHRISTI', 'COVENTRY', 'CROYDON', 'CUMMING', 'CUPERTINO', 'CYPRESS', 'DAMMAM', 'DANDENONG', 'DAR ES SALAAM',\n",
    "           'DARES SALAAM', 'DAYTON', 'DEN HAAG', 'DEVONSHIRE', 'DHAHRAN', 'DOCKLANDS', 'DOHA', 'DOYLESTOWN',\n",
    "           'DUBAI UNITED ARAB EMIRATES DUBAI', 'DUBAI UAE', 'DUBLIN', 'EAGAN', 'EAST RIFFA', 'EDINBURGH', 'EDMONTON AB',\n",
    "           'EDOGAWA KU', 'ELPHINSTONE', 'ERLANGEN', 'ETOBICOKE', 'EXTON', 'FAHAHEL', 'FARMINGTON HILLS', 'FLORIDA',\n",
    "           'FONTENAY AUX ROSES', 'FRAMINGHAM', 'FREMONT', 'FUJAIRAH', 'FZCO DUBAI', 'GAITHERSBURG', 'GLASGOW', 'GLEN HUNTLY',\n",
    "           'GLENGOWRIE', 'GOVERNORATE MANAMA', 'GUILDERLAND', 'HAARLEM', 'HAMBURG', 'HAMPSHIRE', 'HAMPTON PARK', 'HATFIELD',\n",
    "           'HAYES', 'HEIDENHEIM', 'HELSINKI', 'HENDERSON', 'HERNDON', 'HOFFMAN ESTATES', 'HOF UF', 'HONGKONG', 'HOOFDDORP',\n",
    "           'HOUSTON', 'ILFORD', 'IPOH', 'IRVINE', 'ISLAMABAD', 'JABAL ALI', 'JEDDAH', 'JEBEL ALI', 'JERSEY CITY', 'Johannesburg',\n",
    "           'JUBAIL', 'JUBAILI IND CITY', 'JUFFAIR', 'KANATA', 'KAYLA', 'KHAMIS MUSHYAT', 'KHOBAR', 'KIGALI', 'KILLORGLIN',\n",
    "           'KUALA BELAIT', 'KUALA LUMPUR', 'KUALALUMPUR', 'KUWAIT', 'KUWAIT CITY', 'KYOTO', 'LEEDS', 'LODZ', 'LUTON', 'MAARSSEN',\n",
    "           'MAHBOULA', 'MALVERN', 'MANAMA', 'MANGAF', 'MANNHEIM', 'MARSEILLE', 'MCKINNEY', 'MELBOURNE', 'MEMPHIS', 'MISSISSAUGA',\n",
    "           'MOBARA', 'MOSCOW', 'MOUNT HAWTHORN', 'MOUNTAIN VIEW', 'MUNICH', 'MUSCAT', 'NAIROBI', 'NAWALPARASI', 'NEGARA',\n",
    "           'NEW MILFORD', 'NEW TAIPEI CITY', 'NEW YORK', 'NORBURY', 'NORTH CAROLINA', 'NORTH SYDNEY', 'NORWICH', 'NOTTINGHAM',\n",
    "           'NSW', 'OKHALDHUNGA', 'OLDHAM', 'OMAN', 'OMAN MUSCAT', 'ORLANDO', 'ORPINGTON', 'OSAKA', 'OTTERFING', 'OUTRAM', 'PALPA',\n",
    "           'PARRAMATTA', 'PEORIA', 'PERTH', 'PETALING JAYA', 'PHOENIX', 'PORT ELIZABETH', 'QUAKERS HILL', 'QUINCY', 'RAS AL KHAIMAH',\n",
    "           'RAS TANURA', 'READING', 'Congo', 'RIFFA', 'RIIHIMAKI', 'RIVERSIDE', 'ROME', 'RUWI', 'SAFAT', 'SALALAH', 'SALMIYA', 'SALWA',\n",
    "           'SANDHAUSEN', 'SAN JOSE', 'SANTA CLARA', 'SANTIAGO', 'SAUDI ARABIA', 'SCARBOROUGH', 'SEATTLE', 'SELANGOR', 'SENAI',\n",
    "           'SHARJAH', 'SHARJAH KARAMA', 'SHARJAH MAIN CITY', 'SHEIKH ZAYED', 'SHEBOYGAN', 'SILVER SPRING', 'SKIEN', 'SOLIHULL',\n",
    "           'SOMALI REGION', 'SOUTH HEDLAND', 'SOUTH MORANG', 'SOUTH WINDSOR', 'SPEYER', 'SPRING HILL', 'STAFFORD', 'STAINES',\n",
    "           'STILLORGAN', 'STOCKHOLM', 'STOCKPORT', 'SULTANATE OF OMAN', 'SUNNYVALE', 'SURREY', 'SWEILEH', 'SWINDON', 'SYDNEY', \n",
    "           'TAINAN', 'TAMPINES', 'TAMPA', 'TOKYO', 'TOONGABBIE', 'UAE', 'ULSAN', 'UMM AL QUWAIN', 'UNION CITY', 'UXBRIDGE',\n",
    "           'Virginia, USA', 'WALLISELLEN', 'WALSALL', 'WALTHAM', 'WATERLOO', 'WESTLANDS', 'WILLOUGHBY', 'WIRRAL', 'WOODSIDE',\n",
    "           'YANBU', 'YANBU AL BAHAR', 'YOKOHAMA SHI', 'YORK']\n",
    "\n",
    "\n",
    "foreign_locations = [\n",
    "    'Roomford', 'Milton Keynes', 'Naperville', 'West Hartford', 'Port Hartcourt', 'Southall', 'Al Quoz IND 3',\n",
    "    'Abu Dhabi 303', 'AL JUBAIL INSUDTRIAL', 'PO BOX 28483 DUBAI', 'RENTON', 'SULTANATE OF OMAN', 'AHMADI', 'Mombasa',\n",
    "    'Sakaka', 'Brooklyn', 'Lagos', 'Liverpool', 'Brampton', 'Edison', 'Jannusan', 'Jizan', 'Mesaieed', 'Antwerpen',\n",
    "    'Hung Hom', 'Leiden','Irving', 'Dubai', 'Wrzesnia', 'Al Khobar', 'London', 'Raleigh', 'Singapore', 'Kuala Lampur',\n",
    "    'Abu Dhabi', 'Box Dubai', 'Shah Alam', 'Riyadh', 'Munchen', 'SULTANATE OFOMAN', 'FARWANIYA', 'HOFUF','JOHANNESBERG',\n",
    "    'ADDIS ABABD'\n",
    "]\n",
    "foreign_locations_upper = [loc.upper() for loc in foreign_locations]\n",
    "\n",
    "total_foreign_list = list(set(foreign) | set(foreign_locations_upper))"
   ]
  },
  {
   "cell_type": "code",
   "execution_count": 25,
   "id": "4b7ae693-f1a0-4799-90f7-e6351eacbbed",
   "metadata": {},
   "outputs": [],
   "source": [
    "import re\n",
    "tempdf['city'] = tempdf['CustLocation'].astype(str).str.strip()\n",
    "\n",
    "known_cities = list(dict.fromkeys([\n",
    "    'Pune', 'Nagpur', 'Greater Noida', 'Bangalore', 'Hyderabad', 'Chennai', 'Kolkata',\n",
    "    'Ahmedabad', 'Gurgaon', 'Navi Mumbai', 'K V Rangareddy', 'Thane', 'Faridabad',\n",
    "    'Noida', 'Mumbai', 'New Delhi', 'Shillong', 'Bengaluru', 'Rewari', 'Ghinghartola',\n",
    "    'Guntur', 'Roorkee', 'Burdwan', 'Raigarh', 'Bhilai', 'Kancheepuram', 'Jaipur',\n",
    "    'Aurangabad', 'Katra', 'Khammam', 'Vijayawada', 'Ranchi', 'Abohar', 'Tirupati',\n",
    "    'Kanyakumari', 'Delhi', 'Amritsar', 'Mohali', 'Kanpur', 'Bidar', 'Champaran', 'Jorhat', 'Tripura', 'Dimapur',\n",
    "    'Miramar', 'Jalpaiguri', 'Gangtok', 'Patna', 'Jamshedpur', 'Agra', 'Port Blair', 'Dhanbad', 'Ghaziabad',\n",
    "    'Mahendergarh', 'Ludhiana', 'Tirupur'\n",
    "]))\n",
    "\n",
    "# Words to remove entirely from CustLocation\n",
    "remove_terms = [\"DT\", \"DIST\", \"PO\", \"DISTRICT\", \"DISTT\", \"TALUK\", \"URBAN\", \"RURAL\", \"BUNGLOWS\", \"BUNGALOWS\",\n",
    "                \"CANTT\", \"W\", \"E\", \"PURBI\", \"LIMITED\", \"SCHOOL\", \"VPO\", \"CENTRE\", \" I E\",\"STORES\",\"VILLAGE\", \"ROAD\",\n",
    "                \"OFFICE\", \"RD\", \"HOSPITAL\"]\n",
    "pattern_terms = r'\\b(?:' + '|'.join(remove_terms) + r')\\b'\n",
    "\n",
    "# Replacement map for known corrections (Checking these first to override other processes)\n",
    "replace_map = {\n",
    "    \"PARGANAS\": \"KOLKATA\", \"PARAGANAS\": \"KOLKATA\", \"KANNIYAKUMARI\": \"KANYAKUMARI\", \"BANGALURU\": \"BANGALORE\",\n",
    "    \"BANGALROE\": \"BANGALORE\", \"BANGLORE\": \"BANGALORE\", \"CHEENAI\": \"CHENNAI\", \"SAS NAGAR\":\"MOHALI\", \"BANGALORE\":\"BENGALURU\",\n",
    "    \"CINEMA HAORA\":\"HOWRAH\", \"KHARGHAR\":\"NAVI MUMBAI\", \"RANGA REDDY\":\"KV RANGAREDDY\", \"RANGAREDDY\":\"KV RANGAREDDY\",\n",
    "    \"TALEIGAD\":\"TALEIGAO\", \"RANGA REDDY SERILINGAMPALLY\":\"KV RANGAREDDY\", \"G B NAGAR\":\"GAUTAM BUDDHA NAGAR\",\n",
    "    \"KAIRA\":\"KHEDA\", \"SECUDERABAD\":\"SECUNDERABAD\", \"PUDUCHRRY\":\"PUDUCHERRY\", \"CANACOWA\":'CANACONA', \"PANT NAGAR\":\"PANTNAGAR\",\n",
    "    \"P G S\":\"KOLKATA\", \"GAUTAM BUDHNAGAR\":\"GAUTAM BUDDHA NAGAR\", \"PGNS NORTH\":\"KOLKATA\", \".\":\"Unknown\", \"CALCUTTA\":\"KOLKATA\",\n",
    "    \"RACHI\":\"RANCHI\", \"TIRUCHIRAPALLY\":\"TIRUCHIRAPALLI\", \"CHOOLAIMEDU\":\"CHENNAI\", \"BANGLORE\":\"BENGALURU\", \"CHROMPET KPM\":\"CHROMEPET\",\n",
    "    \"JAMESHEDPUR\":\"JAMSHEDPUR\", \"THIROVANANTHA PURAM\":\"THIRUVANANTHAPURAM\", \"MORDABAD\":\"MORADABAD\", \"JAMSAEDPUR\":\"JAMSHEDPUR\",\n",
    "    \"KARKARDUMA\":\"DELHI\", \"GAUTAM BUDDHA\":\"GAUTAM BUDDHA NAGAR\", \"SINDRI\":\"DHANBAD\", \"ANDUL\":\"HOWRAH\", \"BANTWAL TQ\":\"BANTWAL\",\n",
    "    \"MUMABI\":\"MUMBAI\", \"NEAR SWIMMING POOL AREA\":\"Unknown\", \"BANASHANKARIND STAGE\":\"BENGALURU\"\n",
    "}\n",
    "\n",
    "def clean_location(text):\n",
    "    text = text.upper()\n",
    "\n",
    "     # First: Panvel / Mira Road check\n",
    "    if re.search(r'\\bPANVEL\\b', text) or re.search(r'\\bDOMBIVALI\\b', text) or re.search(r'\\bDOMBIVLI\\b', text):\n",
    "        return \"NAVI MUMBAI\"\n",
    "    elif re.search(r'\\bMIRA\\s+ROAD\\b', text):\n",
    "        return \"THANE\"\n",
    "    elif re.search(r'\\bPAREL\\b', text) or re.search(r'\\bPOWAI\\b', text) or re.search(r'\\bKURLA\\b', text) or re.search(r'\\bMULUND\\b', text):\n",
    "        return \"MUMBAI\"\n",
    "    elif re.search(r'\\bSECUNDRABAD\\b', text):\n",
    "        return \"SECUNDERABAD\"\n",
    "\n",
    "    for wrong, correct in replace_map.items():\n",
    "        if wrong in text:\n",
    "            return correct\n",
    "\n",
    "    text = re.sub(r'\\(.*?\\)', '', text)\n",
    "    text = re.sub(pattern_terms, '', text)\n",
    "    text = re.sub(r'\\d+', '', text)\n",
    "    text = text.replace('-', ' ').replace(':', ' ')\n",
    "    text = re.sub(r'\\s+', ' ', text).strip()\n",
    "    return text\n",
    "\n",
    "tempdf['cleaned_location'] = tempdf['CustLocation'].apply(clean_location)\n",
    "\n",
    "def find_city(row):\n",
    "    for city in known_cities:\n",
    "        if city.lower() in row['cleaned_location'].lower():\n",
    "            return city.upper()\n",
    "    return row['cleaned_location']  # Keep cleaned string if no match\n",
    "\n",
    "tempdf['city'] = tempdf.apply(find_city, axis=1)\n",
    "\n",
    "# We will remove foreign locations from our dataframe, since the the scope of the project is to cater to Indian clients.\n",
    "# However, these foreign locations have been exported out to another dataframe for a future use case with foreign clients.\n",
    "foreign_mask = tempdf['city'].str.upper().isin(total_foreign_list)\n",
    "foreign_df = tempdf[foreign_mask].copy()\n",
    "tempdf = tempdf[~foreign_mask].copy()"
   ]
  },
  {
   "cell_type": "code",
   "execution_count": 26,
   "id": "324e1675-16a1-407e-ae74-ebbe45e59642",
   "metadata": {},
   "outputs": [],
   "source": [
    "tempdf.drop('cleaned_location', axis=1, inplace=True)"
   ]
  },
  {
   "cell_type": "code",
   "execution_count": null,
   "id": "73f29127-dba9-40ac-938a-c5eee8ec7d41",
   "metadata": {},
   "outputs": [],
   "source": [
    "tempdf['CustLocation'] = tempdf['city']\n",
    "tempdf.drop('city', axis=1, inplace=True)"
   ]
  },
  {
   "cell_type": "code",
   "execution_count": 41,
   "id": "c16e1125-2e1a-41e0-a10e-164f98a83bfd",
   "metadata": {},
   "outputs": [
    {
     "data": {
      "text/html": [
       "<div>\n",
       "<style scoped>\n",
       "    .dataframe tbody tr th:only-of-type {\n",
       "        vertical-align: middle;\n",
       "    }\n",
       "\n",
       "    .dataframe tbody tr th {\n",
       "        vertical-align: top;\n",
       "    }\n",
       "\n",
       "    .dataframe thead th {\n",
       "        text-align: right;\n",
       "    }\n",
       "</style>\n",
       "<table border=\"1\" class=\"dataframe\">\n",
       "  <thead>\n",
       "    <tr style=\"text-align: right;\">\n",
       "      <th></th>\n",
       "      <th>TransactionID</th>\n",
       "      <th>CustomerID</th>\n",
       "      <th>CustomerDOB</th>\n",
       "      <th>CustGender</th>\n",
       "      <th>CustLocation</th>\n",
       "      <th>CustAccountBalance</th>\n",
       "      <th>TransactionDate</th>\n",
       "      <th>TransactionTime</th>\n",
       "      <th>TransactionAmount (INR)</th>\n",
       "      <th>Age</th>\n",
       "      <th>age_group</th>\n",
       "    </tr>\n",
       "  </thead>\n",
       "  <tbody>\n",
       "    <tr>\n",
       "      <th>0</th>\n",
       "      <td>T1</td>\n",
       "      <td>C5841053</td>\n",
       "      <td>1994-01-10</td>\n",
       "      <td>F</td>\n",
       "      <td>JAMSHEDPUR</td>\n",
       "      <td>17819.05</td>\n",
       "      <td>2016-08-02</td>\n",
       "      <td>14:32:07</td>\n",
       "      <td>25.0</td>\n",
       "      <td>22</td>\n",
       "      <td>20–25</td>\n",
       "    </tr>\n",
       "    <tr>\n",
       "      <th>1</th>\n",
       "      <td>T2</td>\n",
       "      <td>C2142763</td>\n",
       "      <td>1957-04-04</td>\n",
       "      <td>M</td>\n",
       "      <td>JHAJJAR</td>\n",
       "      <td>2270.69</td>\n",
       "      <td>2016-08-02</td>\n",
       "      <td>14:18:58</td>\n",
       "      <td>27999.0</td>\n",
       "      <td>59</td>\n",
       "      <td>46–60</td>\n",
       "    </tr>\n",
       "    <tr>\n",
       "      <th>2</th>\n",
       "      <td>T3</td>\n",
       "      <td>C4417068</td>\n",
       "      <td>1996-11-26</td>\n",
       "      <td>F</td>\n",
       "      <td>MUMBAI</td>\n",
       "      <td>17874.44</td>\n",
       "      <td>2016-08-02</td>\n",
       "      <td>14:27:12</td>\n",
       "      <td>459.0</td>\n",
       "      <td>19</td>\n",
       "      <td>&lt;20</td>\n",
       "    </tr>\n",
       "    <tr>\n",
       "      <th>3</th>\n",
       "      <td>T4</td>\n",
       "      <td>C5342380</td>\n",
       "      <td>1973-09-14</td>\n",
       "      <td>F</td>\n",
       "      <td>MUMBAI</td>\n",
       "      <td>866503.21</td>\n",
       "      <td>2016-08-02</td>\n",
       "      <td>14:27:14</td>\n",
       "      <td>2060.0</td>\n",
       "      <td>43</td>\n",
       "      <td>36–45</td>\n",
       "    </tr>\n",
       "    <tr>\n",
       "      <th>4</th>\n",
       "      <td>T5</td>\n",
       "      <td>C9031234</td>\n",
       "      <td>1988-03-24</td>\n",
       "      <td>F</td>\n",
       "      <td>NAVI MUMBAI</td>\n",
       "      <td>6714.43</td>\n",
       "      <td>2016-08-02</td>\n",
       "      <td>18:11:56</td>\n",
       "      <td>1762.5</td>\n",
       "      <td>28</td>\n",
       "      <td>26–35</td>\n",
       "    </tr>\n",
       "    <tr>\n",
       "      <th>...</th>\n",
       "      <td>...</td>\n",
       "      <td>...</td>\n",
       "      <td>...</td>\n",
       "      <td>...</td>\n",
       "      <td>...</td>\n",
       "      <td>...</td>\n",
       "      <td>...</td>\n",
       "      <td>...</td>\n",
       "      <td>...</td>\n",
       "      <td>...</td>\n",
       "      <td>...</td>\n",
       "    </tr>\n",
       "    <tr>\n",
       "      <th>1048562</th>\n",
       "      <td>T1048563</td>\n",
       "      <td>C8020229</td>\n",
       "      <td>1990-04-08</td>\n",
       "      <td>M</td>\n",
       "      <td>NEW DELHI</td>\n",
       "      <td>7635.19</td>\n",
       "      <td>2016-09-18</td>\n",
       "      <td>18:48:24</td>\n",
       "      <td>799.0</td>\n",
       "      <td>26</td>\n",
       "      <td>26–35</td>\n",
       "    </tr>\n",
       "    <tr>\n",
       "      <th>1048563</th>\n",
       "      <td>T1048564</td>\n",
       "      <td>C6459278</td>\n",
       "      <td>1992-02-20</td>\n",
       "      <td>M</td>\n",
       "      <td>NASHIK</td>\n",
       "      <td>27311.42</td>\n",
       "      <td>2016-09-18</td>\n",
       "      <td>18:37:34</td>\n",
       "      <td>460.0</td>\n",
       "      <td>24</td>\n",
       "      <td>20–25</td>\n",
       "    </tr>\n",
       "    <tr>\n",
       "      <th>1048564</th>\n",
       "      <td>T1048565</td>\n",
       "      <td>C6412354</td>\n",
       "      <td>1989-05-18</td>\n",
       "      <td>M</td>\n",
       "      <td>HYDERABAD</td>\n",
       "      <td>221757.06</td>\n",
       "      <td>2016-09-18</td>\n",
       "      <td>18:33:13</td>\n",
       "      <td>770.0</td>\n",
       "      <td>27</td>\n",
       "      <td>26–35</td>\n",
       "    </tr>\n",
       "    <tr>\n",
       "      <th>1048565</th>\n",
       "      <td>T1048566</td>\n",
       "      <td>C6420483</td>\n",
       "      <td>1978-08-30</td>\n",
       "      <td>M</td>\n",
       "      <td>PATNA</td>\n",
       "      <td>10117.87</td>\n",
       "      <td>2016-09-18</td>\n",
       "      <td>18:47:06</td>\n",
       "      <td>1000.0</td>\n",
       "      <td>38</td>\n",
       "      <td>36–45</td>\n",
       "    </tr>\n",
       "    <tr>\n",
       "      <th>1048566</th>\n",
       "      <td>T1048567</td>\n",
       "      <td>C8337524</td>\n",
       "      <td>1984-03-05</td>\n",
       "      <td>M</td>\n",
       "      <td>PUNE</td>\n",
       "      <td>75734.42</td>\n",
       "      <td>2016-09-18</td>\n",
       "      <td>18:12:22</td>\n",
       "      <td>1166.0</td>\n",
       "      <td>32</td>\n",
       "      <td>26–35</td>\n",
       "    </tr>\n",
       "  </tbody>\n",
       "</table>\n",
       "<p>984247 rows × 11 columns</p>\n",
       "</div>"
      ],
      "text/plain": [
       "        TransactionID CustomerID CustomerDOB CustGender CustLocation  \\\n",
       "0                  T1   C5841053  1994-01-10          F   JAMSHEDPUR   \n",
       "1                  T2   C2142763  1957-04-04          M      JHAJJAR   \n",
       "2                  T3   C4417068  1996-11-26          F       MUMBAI   \n",
       "3                  T4   C5342380  1973-09-14          F       MUMBAI   \n",
       "4                  T5   C9031234  1988-03-24          F  NAVI MUMBAI   \n",
       "...               ...        ...         ...        ...          ...   \n",
       "1048562      T1048563   C8020229  1990-04-08          M    NEW DELHI   \n",
       "1048563      T1048564   C6459278  1992-02-20          M       NASHIK   \n",
       "1048564      T1048565   C6412354  1989-05-18          M    HYDERABAD   \n",
       "1048565      T1048566   C6420483  1978-08-30          M        PATNA   \n",
       "1048566      T1048567   C8337524  1984-03-05          M         PUNE   \n",
       "\n",
       "         CustAccountBalance TransactionDate TransactionTime  \\\n",
       "0                  17819.05      2016-08-02        14:32:07   \n",
       "1                   2270.69      2016-08-02        14:18:58   \n",
       "2                  17874.44      2016-08-02        14:27:12   \n",
       "3                 866503.21      2016-08-02        14:27:14   \n",
       "4                   6714.43      2016-08-02        18:11:56   \n",
       "...                     ...             ...             ...   \n",
       "1048562             7635.19      2016-09-18        18:48:24   \n",
       "1048563            27311.42      2016-09-18        18:37:34   \n",
       "1048564           221757.06      2016-09-18        18:33:13   \n",
       "1048565            10117.87      2016-09-18        18:47:06   \n",
       "1048566            75734.42      2016-09-18        18:12:22   \n",
       "\n",
       "         TransactionAmount (INR)  Age age_group  \n",
       "0                           25.0   22     20–25  \n",
       "1                        27999.0   59     46–60  \n",
       "2                          459.0   19       <20  \n",
       "3                         2060.0   43     36–45  \n",
       "4                         1762.5   28     26–35  \n",
       "...                          ...  ...       ...  \n",
       "1048562                    799.0   26     26–35  \n",
       "1048563                    460.0   24     20–25  \n",
       "1048564                    770.0   27     26–35  \n",
       "1048565                   1000.0   38     36–45  \n",
       "1048566                   1166.0   32     26–35  \n",
       "\n",
       "[984247 rows x 11 columns]"
      ]
     },
     "execution_count": 41,
     "metadata": {},
     "output_type": "execute_result"
    }
   ],
   "source": [
    "tempdf"
   ]
  },
  {
   "cell_type": "code",
   "execution_count": 44,
   "id": "2d05f7d3-81cb-4f5e-bb7e-a061dcb8c32b",
   "metadata": {},
   "outputs": [
    {
     "name": "stdout",
     "output_type": "stream",
     "text": [
      "Directory 'data' created.\n",
      "DataFrame successfully saved to 'data/Transactions_Cleaned.parquet'\n"
     ]
    }
   ],
   "source": [
    "# For saving as a .parquet file for preserving data types while reusing\n",
    "# !pip install pyarrow if not already installed\n",
    "import os\n",
    "\n",
    "directory = 'data'\n",
    "\n",
    "if not os.path.exists(directory):\n",
    "    os.makedirs(directory)\n",
    "    print(f\"Directory '{directory}' created.\")\n",
    "\n",
    "file_path = os.path.join(directory, 'Transactions_Cleaned.parquet')\n",
    "tempdf.to_parquet(file_path, index=False)\n",
    "print(f\"DataFrame successfully saved to '{file_path}'\")"
   ]
  }
 ],
 "metadata": {
  "kernelspec": {
   "display_name": "Python [conda env:base] *",
   "language": "python",
   "name": "conda-base-py"
  },
  "language_info": {
   "codemirror_mode": {
    "name": "ipython",
    "version": 3
   },
   "file_extension": ".py",
   "mimetype": "text/x-python",
   "name": "python",
   "nbconvert_exporter": "python",
   "pygments_lexer": "ipython3",
   "version": "3.13.5"
  }
 },
 "nbformat": 4,
 "nbformat_minor": 5
}
